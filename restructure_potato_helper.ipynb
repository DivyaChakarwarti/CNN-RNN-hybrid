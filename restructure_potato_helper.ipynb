{
 "cells": [
  {
   "cell_type": "code",
   "execution_count": 1,
   "metadata": {},
   "outputs": [
    {
     "ename": "FileNotFoundError",
     "evalue": "[Errno 2] No such file or directory: '/home/divya/Documents/Minor_Project_Paper/CNN-RNN_implement/Potato/Train/Potato___healthy/images/'",
     "output_type": "error",
     "traceback": [
      "\u001b[0;31m---------------------------------------------------------------------------\u001b[0m",
      "\u001b[0;31mFileNotFoundError\u001b[0m                         Traceback (most recent call last)",
      "\u001b[0;32m<ipython-input-1-96dfc6202dc2>\u001b[0m in \u001b[0;36m<module>\u001b[0;34m\u001b[0m\n\u001b[1;32m      9\u001b[0m     \u001b[0mlabel_dir\u001b[0m \u001b[0;34m=\u001b[0m \u001b[0mos\u001b[0m\u001b[0;34m.\u001b[0m\u001b[0mpath\u001b[0m\u001b[0;34m.\u001b[0m\u001b[0mjoin\u001b[0m\u001b[0;34m(\u001b[0m\u001b[0mdataset_train_path\u001b[0m\u001b[0;34m,\u001b[0m \u001b[0mfolder\u001b[0m\u001b[0;34m)\u001b[0m\u001b[0;34m\u001b[0m\u001b[0m\n\u001b[1;32m     10\u001b[0m     \u001b[0mimages_dir\u001b[0m \u001b[0;34m=\u001b[0m \u001b[0mos\u001b[0m\u001b[0;34m.\u001b[0m\u001b[0mpath\u001b[0m\u001b[0;34m.\u001b[0m\u001b[0mjoin\u001b[0m\u001b[0;34m(\u001b[0m\u001b[0mlabel_dir\u001b[0m\u001b[0;34m,\u001b[0m \u001b[0;34m'images/'\u001b[0m\u001b[0;34m)\u001b[0m\u001b[0;34m\u001b[0m\u001b[0m\n\u001b[0;32m---> 11\u001b[0;31m     \u001b[0mimages\u001b[0m \u001b[0;34m=\u001b[0m \u001b[0;34m[\u001b[0m\u001b[0mimage\u001b[0m \u001b[0;32mfor\u001b[0m \u001b[0mimage\u001b[0m \u001b[0;32min\u001b[0m \u001b[0mos\u001b[0m\u001b[0;34m.\u001b[0m\u001b[0mlistdir\u001b[0m\u001b[0;34m(\u001b[0m\u001b[0mimages_dir\u001b[0m\u001b[0;34m)\u001b[0m\u001b[0;34m]\u001b[0m\u001b[0;34m\u001b[0m\u001b[0m\n\u001b[0m\u001b[1;32m     12\u001b[0m \u001b[0;34m\u001b[0m\u001b[0m\n\u001b[1;32m     13\u001b[0m     \u001b[0;32mfor\u001b[0m \u001b[0mimg\u001b[0m \u001b[0;32min\u001b[0m \u001b[0mimages\u001b[0m\u001b[0;34m:\u001b[0m\u001b[0;34m\u001b[0m\u001b[0m\n",
      "\u001b[0;31mFileNotFoundError\u001b[0m: [Errno 2] No such file or directory: '/home/divya/Documents/Minor_Project_Paper/CNN-RNN_implement/Potato/Train/Potato___healthy/images/'"
     ]
    }
   ],
   "source": [
    "from PIL import Image\n",
    "import os\n",
    "import shutil\n",
    "\n",
    "dataset_train_path = '/home/divya/Documents/Minor_Project_Paper/CNN-RNN_implement/Potato/Train'\n",
    "folders = [folder for folder in os.listdir(dataset_train_path)]\n",
    "\n",
    "for folder in folders:\n",
    "    label_dir = os.path.join(dataset_train_path, folder)\n",
    "    images_dir = os.path.join(label_dir, 'images/')\n",
    "    images = [image for image in os.listdir(images_dir)]\n",
    "\n",
    "    for img in images:\n",
    "        img_path = os.path.join(images_dir, img)\n",
    "        relocated_img = Image.open(img_path)\n",
    "        relocated_img.save(os.path.join(label_dir, img))\n",
    "\n",
    "    shutil.rmtree(images_dir)\n",
    "    os.unlink(os.path.join(label_dir, folder + '_boxes.txt'))\n",
    "\n",
    "dataset_val_path = '/home/divya/Documents/Minor_Project_Paper/CNN-RNN_implement/Potato/Valid'\n",
    "val_images_dir = os.path.join(dataset_val_path, 'images')\n",
    "\n",
    "labels_dict = {}\n",
    "with open(os.path.join(dataset_val_path, 'val_annotations.txt'), 'r') as f:\n",
    "    for line in f:\n",
    "        line_list = line.strip().split()\n",
    "        label = line_list[1]\n",
    "        labels_dict[line_list[0]] = label\n",
    "        try:\n",
    "            os.mkdir(os.path.join(dataset_val_path, label))\n",
    "        except OSError:\n",
    "            pass\n",
    "\n",
    "val_images = [img for img in os.listdir(val_images_dir)]\n",
    "\n",
    "for val_image in val_images:\n",
    "    img_path = os.path.join(val_images_dir, val_image)\n",
    "    label = labels_dict[val_image]\n",
    "\n",
    "    relocated_img = Image.open(img_path)\n",
    "    relocated_img.save(os.path.join(dataset_val_path, label, val_image))\n",
    "\n",
    "shutil.rmtree(val_images_dir)\n",
    "os.unlink(os.path.join(dataset_val_path, 'val_annotations.txt'))"
   ]
  }
 ],
 "metadata": {
  "kernelspec": {
   "display_name": "Python 3",
   "language": "python",
   "name": "python3"
  },
  "language_info": {
   "codemirror_mode": {
    "name": "ipython",
    "version": 3
   },
   "file_extension": ".py",
   "mimetype": "text/x-python",
   "name": "python",
   "nbconvert_exporter": "python",
   "pygments_lexer": "ipython3",
   "version": "3.5.2"
  }
 },
 "nbformat": 4,
 "nbformat_minor": 2
}
